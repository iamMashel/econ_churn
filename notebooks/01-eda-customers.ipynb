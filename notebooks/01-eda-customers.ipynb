{
 "cells": [
  {
   "cell_type": "code",
   "execution_count": 2,
   "id": "8dbcffa7",
   "metadata": {},
   "outputs": [],
   "source": [
    "import sys\n",
    "from pathlib import Path \n",
    "import seaborn as sns\n",
    "import matplotlib.pyplot as plt\n",
    "import pandas as pd\n",
    "import duckdb"
   ]
  },
  {
   "cell_type": "code",
   "execution_count": 3,
   "id": "f96f644f",
   "metadata": {},
   "outputs": [
    {
     "name": "stderr",
     "output_type": "stream",
     "text": [
      "INFO:load_data:✅ CSV loaded: C:\\Users\\mashel\\Desktop\\econ_churn\\data\\raw\\customers.csv\n"
     ]
    },
    {
     "data": {
      "text/html": [
       "<div>\n",
       "<style scoped>\n",
       "    .dataframe tbody tr th:only-of-type {\n",
       "        vertical-align: middle;\n",
       "    }\n",
       "\n",
       "    .dataframe tbody tr th {\n",
       "        vertical-align: top;\n",
       "    }\n",
       "\n",
       "    .dataframe thead th {\n",
       "        text-align: right;\n",
       "    }\n",
       "</style>\n",
       "<table border=\"1\" class=\"dataframe\">\n",
       "  <thead>\n",
       "    <tr style=\"text-align: right;\">\n",
       "      <th></th>\n",
       "      <th>customer_id</th>\n",
       "      <th>first_order_date</th>\n",
       "      <th>region</th>\n",
       "      <th>gender</th>\n",
       "      <th>birth_year</th>\n",
       "    </tr>\n",
       "  </thead>\n",
       "  <tbody>\n",
       "    <tr>\n",
       "      <th>0</th>\n",
       "      <td>CUST0001</td>\n",
       "      <td>2023-11-12</td>\n",
       "      <td>South America</td>\n",
       "      <td>Other</td>\n",
       "      <td>1993</td>\n",
       "    </tr>\n",
       "    <tr>\n",
       "      <th>1</th>\n",
       "      <td>CUST0002</td>\n",
       "      <td>2022-09-28</td>\n",
       "      <td>Europe</td>\n",
       "      <td>Other</td>\n",
       "      <td>1993</td>\n",
       "    </tr>\n",
       "    <tr>\n",
       "      <th>2</th>\n",
       "      <td>CUST0003</td>\n",
       "      <td>2022-07-23</td>\n",
       "      <td>Asia</td>\n",
       "      <td>Male</td>\n",
       "      <td>1973</td>\n",
       "    </tr>\n",
       "    <tr>\n",
       "      <th>3</th>\n",
       "      <td>CUST0004</td>\n",
       "      <td>2024-01-30</td>\n",
       "      <td>Europe</td>\n",
       "      <td>Male</td>\n",
       "      <td>1997</td>\n",
       "    </tr>\n",
       "    <tr>\n",
       "      <th>4</th>\n",
       "      <td>CUST0005</td>\n",
       "      <td>2023-02-02</td>\n",
       "      <td>South America</td>\n",
       "      <td>Male</td>\n",
       "      <td>1989</td>\n",
       "    </tr>\n",
       "  </tbody>\n",
       "</table>\n",
       "</div>"
      ],
      "text/plain": [
       "  customer_id first_order_date         region gender  birth_year\n",
       "0    CUST0001       2023-11-12  South America  Other        1993\n",
       "1    CUST0002       2022-09-28         Europe  Other        1993\n",
       "2    CUST0003       2022-07-23           Asia   Male        1973\n",
       "3    CUST0004       2024-01-30         Europe   Male        1997\n",
       "4    CUST0005       2023-02-02  South America   Male        1989"
      ]
     },
     "metadata": {},
     "output_type": "display_data"
    },
    {
     "data": {
      "text/html": [
       "<div>\n",
       "<style scoped>\n",
       "    .dataframe tbody tr th:only-of-type {\n",
       "        vertical-align: middle;\n",
       "    }\n",
       "\n",
       "    .dataframe tbody tr th {\n",
       "        vertical-align: top;\n",
       "    }\n",
       "\n",
       "    .dataframe thead th {\n",
       "        text-align: right;\n",
       "    }\n",
       "</style>\n",
       "<table border=\"1\" class=\"dataframe\">\n",
       "  <thead>\n",
       "    <tr style=\"text-align: right;\">\n",
       "      <th></th>\n",
       "      <th>customer_id</th>\n",
       "      <th>first_order_date</th>\n",
       "      <th>region</th>\n",
       "      <th>gender</th>\n",
       "      <th>birth_year</th>\n",
       "    </tr>\n",
       "  </thead>\n",
       "  <tbody>\n",
       "    <tr>\n",
       "      <th>195</th>\n",
       "      <td>CUST0196</td>\n",
       "      <td>2024-05-21</td>\n",
       "      <td>North America</td>\n",
       "      <td>Female</td>\n",
       "      <td>1989</td>\n",
       "    </tr>\n",
       "    <tr>\n",
       "      <th>196</th>\n",
       "      <td>CUST0197</td>\n",
       "      <td>2023-08-25</td>\n",
       "      <td>South America</td>\n",
       "      <td>Female</td>\n",
       "      <td>1985</td>\n",
       "    </tr>\n",
       "    <tr>\n",
       "      <th>197</th>\n",
       "      <td>CUST0198</td>\n",
       "      <td>2024-02-07</td>\n",
       "      <td>Europe</td>\n",
       "      <td>Male</td>\n",
       "      <td>1967</td>\n",
       "    </tr>\n",
       "    <tr>\n",
       "      <th>198</th>\n",
       "      <td>CUST0199</td>\n",
       "      <td>2023-01-27</td>\n",
       "      <td>Europe</td>\n",
       "      <td>Other</td>\n",
       "      <td>1982</td>\n",
       "    </tr>\n",
       "    <tr>\n",
       "      <th>199</th>\n",
       "      <td>CUST0200</td>\n",
       "      <td>2024-02-20</td>\n",
       "      <td>South America</td>\n",
       "      <td>Male</td>\n",
       "      <td>1999</td>\n",
       "    </tr>\n",
       "  </tbody>\n",
       "</table>\n",
       "</div>"
      ],
      "text/plain": [
       "    customer_id first_order_date         region  gender  birth_year\n",
       "195    CUST0196       2024-05-21  North America  Female        1989\n",
       "196    CUST0197       2023-08-25  South America  Female        1985\n",
       "197    CUST0198       2024-02-07         Europe    Male        1967\n",
       "198    CUST0199       2023-01-27         Europe   Other        1982\n",
       "199    CUST0200       2024-02-20  South America    Male        1999"
      ]
     },
     "metadata": {},
     "output_type": "display_data"
    },
    {
     "data": {
      "text/html": [
       "<div>\n",
       "<style scoped>\n",
       "    .dataframe tbody tr th:only-of-type {\n",
       "        vertical-align: middle;\n",
       "    }\n",
       "\n",
       "    .dataframe tbody tr th {\n",
       "        vertical-align: top;\n",
       "    }\n",
       "\n",
       "    .dataframe thead th {\n",
       "        text-align: right;\n",
       "    }\n",
       "</style>\n",
       "<table border=\"1\" class=\"dataframe\">\n",
       "  <thead>\n",
       "    <tr style=\"text-align: right;\">\n",
       "      <th></th>\n",
       "      <th>customer_id</th>\n",
       "      <th>first_order_date</th>\n",
       "      <th>region</th>\n",
       "      <th>gender</th>\n",
       "      <th>birth_year</th>\n",
       "    </tr>\n",
       "  </thead>\n",
       "  <tbody>\n",
       "    <tr>\n",
       "      <th>count</th>\n",
       "      <td>200</td>\n",
       "      <td>200</td>\n",
       "      <td>200</td>\n",
       "      <td>200</td>\n",
       "      <td>200.000000</td>\n",
       "    </tr>\n",
       "    <tr>\n",
       "      <th>unique</th>\n",
       "      <td>200</td>\n",
       "      <td>171</td>\n",
       "      <td>4</td>\n",
       "      <td>3</td>\n",
       "      <td>NaN</td>\n",
       "    </tr>\n",
       "    <tr>\n",
       "      <th>top</th>\n",
       "      <td>CUST0001</td>\n",
       "      <td>2024-05-21</td>\n",
       "      <td>South America</td>\n",
       "      <td>Female</td>\n",
       "      <td>NaN</td>\n",
       "    </tr>\n",
       "    <tr>\n",
       "      <th>freq</th>\n",
       "      <td>1</td>\n",
       "      <td>3</td>\n",
       "      <td>52</td>\n",
       "      <td>78</td>\n",
       "      <td>NaN</td>\n",
       "    </tr>\n",
       "    <tr>\n",
       "      <th>mean</th>\n",
       "      <td>NaN</td>\n",
       "      <td>NaN</td>\n",
       "      <td>NaN</td>\n",
       "      <td>NaN</td>\n",
       "      <td>1979.890000</td>\n",
       "    </tr>\n",
       "    <tr>\n",
       "      <th>std</th>\n",
       "      <td>NaN</td>\n",
       "      <td>NaN</td>\n",
       "      <td>NaN</td>\n",
       "      <td>NaN</td>\n",
       "      <td>11.659228</td>\n",
       "    </tr>\n",
       "    <tr>\n",
       "      <th>min</th>\n",
       "      <td>NaN</td>\n",
       "      <td>NaN</td>\n",
       "      <td>NaN</td>\n",
       "      <td>NaN</td>\n",
       "      <td>1960.000000</td>\n",
       "    </tr>\n",
       "    <tr>\n",
       "      <th>25%</th>\n",
       "      <td>NaN</td>\n",
       "      <td>NaN</td>\n",
       "      <td>NaN</td>\n",
       "      <td>NaN</td>\n",
       "      <td>1970.000000</td>\n",
       "    </tr>\n",
       "    <tr>\n",
       "      <th>50%</th>\n",
       "      <td>NaN</td>\n",
       "      <td>NaN</td>\n",
       "      <td>NaN</td>\n",
       "      <td>NaN</td>\n",
       "      <td>1979.000000</td>\n",
       "    </tr>\n",
       "    <tr>\n",
       "      <th>75%</th>\n",
       "      <td>NaN</td>\n",
       "      <td>NaN</td>\n",
       "      <td>NaN</td>\n",
       "      <td>NaN</td>\n",
       "      <td>1989.000000</td>\n",
       "    </tr>\n",
       "    <tr>\n",
       "      <th>max</th>\n",
       "      <td>NaN</td>\n",
       "      <td>NaN</td>\n",
       "      <td>NaN</td>\n",
       "      <td>NaN</td>\n",
       "      <td>2000.000000</td>\n",
       "    </tr>\n",
       "  </tbody>\n",
       "</table>\n",
       "</div>"
      ],
      "text/plain": [
       "       customer_id first_order_date         region  gender   birth_year\n",
       "count          200              200            200     200   200.000000\n",
       "unique         200              171              4       3          NaN\n",
       "top       CUST0001       2024-05-21  South America  Female          NaN\n",
       "freq             1                3             52      78          NaN\n",
       "mean           NaN              NaN            NaN     NaN  1979.890000\n",
       "std            NaN              NaN            NaN     NaN    11.659228\n",
       "min            NaN              NaN            NaN     NaN  1960.000000\n",
       "25%            NaN              NaN            NaN     NaN  1970.000000\n",
       "50%            NaN              NaN            NaN     NaN  1979.000000\n",
       "75%            NaN              NaN            NaN     NaN  1989.000000\n",
       "max            NaN              NaN            NaN     NaN  2000.000000"
      ]
     },
     "metadata": {},
     "output_type": "display_data"
    },
    {
     "data": {
      "text/plain": [
       "customer_id         0\n",
       "first_order_date    0\n",
       "region              0\n",
       "gender              0\n",
       "birth_year          0\n",
       "dtype: int64"
      ]
     },
     "metadata": {},
     "output_type": "display_data"
    },
    {
     "name": "stdout",
     "output_type": "stream",
     "text": [
      "<class 'pandas.core.frame.DataFrame'>\n",
      "RangeIndex: 200 entries, 0 to 199\n",
      "Data columns (total 5 columns):\n",
      " #   Column            Non-Null Count  Dtype \n",
      "---  ------            --------------  ----- \n",
      " 0   customer_id       200 non-null    object\n",
      " 1   first_order_date  200 non-null    object\n",
      " 2   region            200 non-null    object\n",
      " 3   gender            200 non-null    object\n",
      " 4   birth_year        200 non-null    int64 \n",
      "dtypes: int64(1), object(4)\n",
      "memory usage: 7.9+ KB\n"
     ]
    },
    {
     "data": {
      "text/plain": [
       "region\n",
       "South America    52\n",
       "Asia             51\n",
       "North America    50\n",
       "Europe           47\n",
       "Name: count, dtype: int64"
      ]
     },
     "execution_count": 3,
     "metadata": {},
     "output_type": "execute_result"
    }
   ],
   "source": [
    "# Add utils path (from notebooks/ to src/utils)\n",
    "sys.path.append(str((Path().resolve().parent / \"src\" / \"utils\").resolve()))\n",
    "from load_data import load_csv, save_csv\n",
    "\n",
    "# Set data directory to project_root/data/raw\n",
    "project_root = Path().resolve().parent\n",
    "data_dir = project_root / \"data\" / \"raw\"\n",
    "\n",
    "# load customers.csv and Initial Exploration\n",
    "df = load_csv(\"customers.csv\", data_dir=data_dir)\n",
    "if df is not None:\n",
    "    display(df.head())\n",
    "    display(df.tail()) \n",
    "    display(df.describe(include='all'))\n",
    "    display(df.isnull().sum())\n",
    "df.info()\n",
    "\n",
    "df['gender'].value_counts()\n",
    "df['region'].value_counts()"
   ]
  },
  {
   "cell_type": "markdown",
   "id": "e6ba7821",
   "metadata": {},
   "source": [
    "insights\n",
    "| Column             | Notes                                                         |\n",
    "| ------------------ | ------------------------------------------------------------- |\n",
    "| `customer_id`      | ✅ Unique for all 200 rows                                     |\n",
    "| `first_order_date` | 171 unique dates → some dates repeated (OK)                   |\n",
    "| `region`           | 4 unique regions — looks manageable                           |\n",
    "| `gender`           | 3 unique values → likely needs standardization                |\n",
    "| `birth_year`       | Ranges from 1960–2000, mean = 1980 — perfect for age features |\n"
   ]
  },
  {
   "cell_type": "code",
   "execution_count": 4,
   "id": "ce83c316",
   "metadata": {},
   "outputs": [
    {
     "name": "stdout",
     "output_type": "stream",
     "text": [
      "customer_id         0\n",
      "first_order_date    0\n",
      "region              0\n",
      "gender              0\n",
      "birth_year          0\n",
      "dtype: int64\n"
     ]
    }
   ],
   "source": [
    "# Data cleaning\n",
    "# Convert first_order_date to datetime\n",
    "df['first_order_date'] = pd.to_datetime(df['first_order_date'])\n",
    "\n",
    "# Standardize gender values\n",
    "df['gender'] = df['gender'].str.strip().str.title()\n",
    "\n",
    "# Check for missing values\n",
    "print(df.isna().sum())\n",
    "\n",
    "# Ensure uniqueness\n",
    "assert df['customer_id'].is_unique"
   ]
  },
  {
   "cell_type": "code",
   "execution_count": 5,
   "id": "0f0234ec",
   "metadata": {},
   "outputs": [],
   "source": [
    "# Feature Engineering\n",
    "\n",
    "# Age\n",
    "df['age'] = 2025 - df['birth_year']\n",
    "\n",
    "# Customer tenure\n",
    "df['customer_age_days'] = (pd.Timestamp.today() - df['first_order_date']).dt.days\n",
    "\n",
    "# Loyalty flag (1+ year)\n",
    "df['is_loyal'] = df['customer_age_days'] > 365\n",
    "\n",
    "# Age Group\n",
    "df['age_group'] = pd.cut(df['age'], bins=[0, 25, 40, 60, 100],\n",
    "                         labels=['Gen Z', 'Millennials', 'Gen X', 'Boomers'])\n",
    "\n",
    "# Group rare regions\n",
    "top_regions = df['region'].value_counts().nlargest(3).index\n",
    "df['region_grouped'] = df['region'].where(df['region'].isin(top_regions), 'Other')"
   ]
  },
  {
   "cell_type": "code",
   "execution_count": 6,
   "id": "e03951f8",
   "metadata": {},
   "outputs": [
    {
     "data": {
      "image/png": "[encoded data removed]",
      "text/plain": [
       "<Figure size 640x480 with 1 Axes>"
      ]
     },
     "metadata": {},
     "output_type": "display_data"
    },
    {
     "data": {
      "image/png": "[encoded data removed]",
      "text/plain": [
       "<Figure size 640x480 with 1 Axes>"
      ]
     },
     "metadata": {},
     "output_type": "display_data"
    },
    {
     "data": {
      "image/png": "[encoded data removed]",
      "text/plain": [
       "<Figure size 640x480 with 1 Axes>"
      ]
     },
     "metadata": {},
     "output_type": "display_data"
    },
    {
     "data": {
      "image/png": "[encoded data removed]",
      "text/plain": [
       "<Figure size 640x480 with 1 Axes>"
      ]
     },
     "metadata": {},
     "output_type": "display_data"
    },
    {
     "name": "stderr",
     "output_type": "stream",
     "text": [
      "INFO:load_data:💾 Saved CSV to: C:\\Users\\mashel\\Desktop\\econ_churn\\data\\processed\\customers_clean.csv\n"
     ]
    }
   ],
   "source": [
    "# Exploratory Data Analysis\n",
    "\n",
    "# Age Distribution\n",
    "sns.histplot(df['age'])\n",
    "plt.title(\"Customer Age Distribution\")\n",
    "plt.show()\n",
    "\n",
    "# Gender Counts\n",
    "sns.countplot(x='gender', data=df)\n",
    "plt.title(\"Gender Breakdown\")\n",
    "plt.show()\n",
    "\n",
    "# Region vs Tenure\n",
    "sns.boxplot(x='region_grouped', y='customer_age_days', data=df)\n",
    "plt.title(\"Customer Tenure by Region\")\n",
    "plt.show()\n",
    "\n",
    "# Loyalty Distribution\n",
    "sns.countplot(x='is_loyal', data=df)\n",
    "plt.title(\"Loyalty Flag Distribution\")\n",
    "plt.xticks([0,1], ['<1 Year', '>1 Year'])\n",
    "plt.show()\n",
    "\n",
    "\n",
    "# Save Cleaned File\n",
    "save_csv(df, \"customers_clean.csv\")"
   ]
  }
 ],
 "metadata": {
  "kernelspec": {
   "display_name": "freelance-env",
   "language": "python",
   "name": "python3"
  },
  "language_info": {
   "codemirror_mode": {
    "name": "ipython",
    "version": 3
   },
   "file_extension": ".py",
   "mimetype": "text/x-python",
   "name": "python",
   "nbconvert_exporter": "python",
   "pygments_lexer": "ipython3",
   "version": "3.12.11"
  }
 },
 "nbformat": 4,
 "nbformat_minor": 5
}
