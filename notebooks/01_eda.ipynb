{
 "cells": [
  {
   "cell_type": "code",
   "execution_count": 1,
   "id": "059d8a46",
   "metadata": {},
   "outputs": [],
   "source": [
    "import sys\n",
    "from pathlib import Path \n",
    "import pandas as pd\n",
    "import duckdb"
   ]
  },
  {
   "cell_type": "code",
   "execution_count": 2,
   "id": "2bcbdb83",
   "metadata": {},
   "outputs": [
    {
     "name": "stdout",
     "output_type": "stream",
     "text": [
      "✅ CSV loaded: C:\\Users\\mashel\\Desktop\\econ_churn\\data\\raw\\orders.csv\n"
     ]
    },
    {
     "data": {
      "text/html": [
       "<div>\n",
       "<style scoped>\n",
       "    .dataframe tbody tr th:only-of-type {\n",
       "        vertical-align: middle;\n",
       "    }\n",
       "\n",
       "    .dataframe tbody tr th {\n",
       "        vertical-align: top;\n",
       "    }\n",
       "\n",
       "    .dataframe thead th {\n",
       "        text-align: right;\n",
       "    }\n",
       "</style>\n",
       "<table border=\"1\" class=\"dataframe\">\n",
       "  <thead>\n",
       "    <tr style=\"text-align: right;\">\n",
       "      <th></th>\n",
       "      <th>order_id</th>\n",
       "      <th>customer_id</th>\n",
       "      <th>product_id</th>\n",
       "      <th>order_date</th>\n",
       "      <th>quantity</th>\n",
       "      <th>price</th>\n",
       "      <th>discount</th>\n",
       "      <th>payment_method</th>\n",
       "    </tr>\n",
       "  </thead>\n",
       "  <tbody>\n",
       "    <tr>\n",
       "      <th>0</th>\n",
       "      <td>ORD00001</td>\n",
       "      <td>CUST0023</td>\n",
       "      <td>PROD0044</td>\n",
       "      <td>2024-08-25</td>\n",
       "      <td>3</td>\n",
       "      <td>25.24</td>\n",
       "      <td>26.04</td>\n",
       "      <td>Gift Card</td>\n",
       "    </tr>\n",
       "    <tr>\n",
       "      <th>1</th>\n",
       "      <td>ORD00002</td>\n",
       "      <td>CUST0050</td>\n",
       "      <td>PROD0026</td>\n",
       "      <td>2024-12-18</td>\n",
       "      <td>1</td>\n",
       "      <td>109.66</td>\n",
       "      <td>24.18</td>\n",
       "      <td>Gift Card</td>\n",
       "    </tr>\n",
       "    <tr>\n",
       "      <th>2</th>\n",
       "      <td>ORD00003</td>\n",
       "      <td>CUST0041</td>\n",
       "      <td>PROD0036</td>\n",
       "      <td>2025-01-12</td>\n",
       "      <td>3</td>\n",
       "      <td>87.98</td>\n",
       "      <td>23.70</td>\n",
       "      <td>Apple Pay</td>\n",
       "    </tr>\n",
       "    <tr>\n",
       "      <th>3</th>\n",
       "      <td>ORD00004</td>\n",
       "      <td>CUST0164</td>\n",
       "      <td>PROD0041</td>\n",
       "      <td>2025-07-03</td>\n",
       "      <td>3</td>\n",
       "      <td>196.65</td>\n",
       "      <td>9.14</td>\n",
       "      <td>Gift Card</td>\n",
       "    </tr>\n",
       "    <tr>\n",
       "      <th>4</th>\n",
       "      <td>ORD00005</td>\n",
       "      <td>CUST0010</td>\n",
       "      <td>PROD0025</td>\n",
       "      <td>2025-01-30</td>\n",
       "      <td>1</td>\n",
       "      <td>31.29</td>\n",
       "      <td>2.43</td>\n",
       "      <td>Gift Card</td>\n",
       "    </tr>\n",
       "  </tbody>\n",
       "</table>\n",
       "</div>"
      ],
      "text/plain": [
       "   order_id customer_id product_id  order_date  quantity   price  discount  \\\n",
       "0  ORD00001    CUST0023   PROD0044  2024-08-25         3   25.24     26.04   \n",
       "1  ORD00002    CUST0050   PROD0026  2024-12-18         1  109.66     24.18   \n",
       "2  ORD00003    CUST0041   PROD0036  2025-01-12         3   87.98     23.70   \n",
       "3  ORD00004    CUST0164   PROD0041  2025-07-03         3  196.65      9.14   \n",
       "4  ORD00005    CUST0010   PROD0025  2025-01-30         1   31.29      2.43   \n",
       "\n",
       "  payment_method  \n",
       "0      Gift Card  \n",
       "1      Gift Card  \n",
       "2      Apple Pay  \n",
       "3      Gift Card  \n",
       "4      Gift Card  "
      ]
     },
     "metadata": {},
     "output_type": "display_data"
    },
    {
     "data": {
      "text/html": [
       "<div>\n",
       "<style scoped>\n",
       "    .dataframe tbody tr th:only-of-type {\n",
       "        vertical-align: middle;\n",
       "    }\n",
       "\n",
       "    .dataframe tbody tr th {\n",
       "        vertical-align: top;\n",
       "    }\n",
       "\n",
       "    .dataframe thead th {\n",
       "        text-align: right;\n",
       "    }\n",
       "</style>\n",
       "<table border=\"1\" class=\"dataframe\">\n",
       "  <thead>\n",
       "    <tr style=\"text-align: right;\">\n",
       "      <th></th>\n",
       "      <th>order_id</th>\n",
       "      <th>customer_id</th>\n",
       "      <th>product_id</th>\n",
       "      <th>order_date</th>\n",
       "      <th>quantity</th>\n",
       "      <th>price</th>\n",
       "      <th>discount</th>\n",
       "      <th>payment_method</th>\n",
       "    </tr>\n",
       "  </thead>\n",
       "  <tbody>\n",
       "    <tr>\n",
       "      <th>995</th>\n",
       "      <td>ORD00996</td>\n",
       "      <td>CUST0089</td>\n",
       "      <td>PROD0020</td>\n",
       "      <td>2024-12-28</td>\n",
       "      <td>2</td>\n",
       "      <td>186.81</td>\n",
       "      <td>19.55</td>\n",
       "      <td>PayPal</td>\n",
       "    </tr>\n",
       "    <tr>\n",
       "      <th>996</th>\n",
       "      <td>ORD00997</td>\n",
       "      <td>CUST0138</td>\n",
       "      <td>PROD0034</td>\n",
       "      <td>2024-02-18</td>\n",
       "      <td>2</td>\n",
       "      <td>32.11</td>\n",
       "      <td>22.16</td>\n",
       "      <td>PayPal</td>\n",
       "    </tr>\n",
       "    <tr>\n",
       "      <th>997</th>\n",
       "      <td>ORD00998</td>\n",
       "      <td>CUST0088</td>\n",
       "      <td>PROD0013</td>\n",
       "      <td>2023-07-21</td>\n",
       "      <td>3</td>\n",
       "      <td>165.32</td>\n",
       "      <td>9.47</td>\n",
       "      <td>PayPal</td>\n",
       "    </tr>\n",
       "    <tr>\n",
       "      <th>998</th>\n",
       "      <td>ORD00999</td>\n",
       "      <td>CUST0099</td>\n",
       "      <td>PROD0013</td>\n",
       "      <td>2025-04-08</td>\n",
       "      <td>3</td>\n",
       "      <td>82.32</td>\n",
       "      <td>19.34</td>\n",
       "      <td>PayPal</td>\n",
       "    </tr>\n",
       "    <tr>\n",
       "      <th>999</th>\n",
       "      <td>ORD01000</td>\n",
       "      <td>CUST0175</td>\n",
       "      <td>PROD0048</td>\n",
       "      <td>2024-11-26</td>\n",
       "      <td>1</td>\n",
       "      <td>176.82</td>\n",
       "      <td>11.85</td>\n",
       "      <td>Gift Card</td>\n",
       "    </tr>\n",
       "  </tbody>\n",
       "</table>\n",
       "</div>"
      ],
      "text/plain": [
       "     order_id customer_id product_id  order_date  quantity   price  discount  \\\n",
       "995  ORD00996    CUST0089   PROD0020  2024-12-28         2  186.81     19.55   \n",
       "996  ORD00997    CUST0138   PROD0034  2024-02-18         2   32.11     22.16   \n",
       "997  ORD00998    CUST0088   PROD0013  2023-07-21         3  165.32      9.47   \n",
       "998  ORD00999    CUST0099   PROD0013  2025-04-08         3   82.32     19.34   \n",
       "999  ORD01000    CUST0175   PROD0048  2024-11-26         1  176.82     11.85   \n",
       "\n",
       "    payment_method  \n",
       "995         PayPal  \n",
       "996         PayPal  \n",
       "997         PayPal  \n",
       "998         PayPal  \n",
       "999      Gift Card  "
      ]
     },
     "metadata": {},
     "output_type": "display_data"
    },
    {
     "data": {
      "text/html": [
       "<div>\n",
       "<style scoped>\n",
       "    .dataframe tbody tr th:only-of-type {\n",
       "        vertical-align: middle;\n",
       "    }\n",
       "\n",
       "    .dataframe tbody tr th {\n",
       "        vertical-align: top;\n",
       "    }\n",
       "\n",
       "    .dataframe thead th {\n",
       "        text-align: right;\n",
       "    }\n",
       "</style>\n",
       "<table border=\"1\" class=\"dataframe\">\n",
       "  <thead>\n",
       "    <tr style=\"text-align: right;\">\n",
       "      <th></th>\n",
       "      <th>order_id</th>\n",
       "      <th>customer_id</th>\n",
       "      <th>product_id</th>\n",
       "      <th>order_date</th>\n",
       "      <th>quantity</th>\n",
       "      <th>price</th>\n",
       "      <th>discount</th>\n",
       "      <th>payment_method</th>\n",
       "    </tr>\n",
       "  </thead>\n",
       "  <tbody>\n",
       "    <tr>\n",
       "      <th>count</th>\n",
       "      <td>1000</td>\n",
       "      <td>1000</td>\n",
       "      <td>1000</td>\n",
       "      <td>1000</td>\n",
       "      <td>1000.000000</td>\n",
       "      <td>1000.000000</td>\n",
       "      <td>1000.000000</td>\n",
       "      <td>1000</td>\n",
       "    </tr>\n",
       "    <tr>\n",
       "      <th>unique</th>\n",
       "      <td>1000</td>\n",
       "      <td>199</td>\n",
       "      <td>50</td>\n",
       "      <td>560</td>\n",
       "      <td>NaN</td>\n",
       "      <td>NaN</td>\n",
       "      <td>NaN</td>\n",
       "      <td>4</td>\n",
       "    </tr>\n",
       "    <tr>\n",
       "      <th>top</th>\n",
       "      <td>ORD01000</td>\n",
       "      <td>CUST0050</td>\n",
       "      <td>PROD0008</td>\n",
       "      <td>2024-06-11</td>\n",
       "      <td>NaN</td>\n",
       "      <td>NaN</td>\n",
       "      <td>NaN</td>\n",
       "      <td>PayPal</td>\n",
       "    </tr>\n",
       "    <tr>\n",
       "      <th>freq</th>\n",
       "      <td>1</td>\n",
       "      <td>12</td>\n",
       "      <td>28</td>\n",
       "      <td>7</td>\n",
       "      <td>NaN</td>\n",
       "      <td>NaN</td>\n",
       "      <td>NaN</td>\n",
       "      <td>267</td>\n",
       "    </tr>\n",
       "    <tr>\n",
       "      <th>mean</th>\n",
       "      <td>NaN</td>\n",
       "      <td>NaN</td>\n",
       "      <td>NaN</td>\n",
       "      <td>NaN</td>\n",
       "      <td>1.964000</td>\n",
       "      <td>105.615660</td>\n",
       "      <td>14.956170</td>\n",
       "      <td>NaN</td>\n",
       "    </tr>\n",
       "    <tr>\n",
       "      <th>std</th>\n",
       "      <td>NaN</td>\n",
       "      <td>NaN</td>\n",
       "      <td>NaN</td>\n",
       "      <td>NaN</td>\n",
       "      <td>0.820596</td>\n",
       "      <td>55.259182</td>\n",
       "      <td>8.630078</td>\n",
       "      <td>NaN</td>\n",
       "    </tr>\n",
       "    <tr>\n",
       "      <th>min</th>\n",
       "      <td>NaN</td>\n",
       "      <td>NaN</td>\n",
       "      <td>NaN</td>\n",
       "      <td>NaN</td>\n",
       "      <td>1.000000</td>\n",
       "      <td>10.880000</td>\n",
       "      <td>0.000000</td>\n",
       "      <td>NaN</td>\n",
       "    </tr>\n",
       "    <tr>\n",
       "      <th>25%</th>\n",
       "      <td>NaN</td>\n",
       "      <td>NaN</td>\n",
       "      <td>NaN</td>\n",
       "      <td>NaN</td>\n",
       "      <td>1.000000</td>\n",
       "      <td>55.340000</td>\n",
       "      <td>7.780000</td>\n",
       "      <td>NaN</td>\n",
       "    </tr>\n",
       "    <tr>\n",
       "      <th>50%</th>\n",
       "      <td>NaN</td>\n",
       "      <td>NaN</td>\n",
       "      <td>NaN</td>\n",
       "      <td>NaN</td>\n",
       "      <td>2.000000</td>\n",
       "      <td>107.970000</td>\n",
       "      <td>15.015000</td>\n",
       "      <td>NaN</td>\n",
       "    </tr>\n",
       "    <tr>\n",
       "      <th>75%</th>\n",
       "      <td>NaN</td>\n",
       "      <td>NaN</td>\n",
       "      <td>NaN</td>\n",
       "      <td>NaN</td>\n",
       "      <td>3.000000</td>\n",
       "      <td>152.622500</td>\n",
       "      <td>22.445000</td>\n",
       "      <td>NaN</td>\n",
       "    </tr>\n",
       "    <tr>\n",
       "      <th>max</th>\n",
       "      <td>NaN</td>\n",
       "      <td>NaN</td>\n",
       "      <td>NaN</td>\n",
       "      <td>NaN</td>\n",
       "      <td>3.000000</td>\n",
       "      <td>199.890000</td>\n",
       "      <td>29.950000</td>\n",
       "      <td>NaN</td>\n",
       "    </tr>\n",
       "  </tbody>\n",
       "</table>\n",
       "</div>"
      ],
      "text/plain": [
       "        order_id customer_id product_id  order_date     quantity        price  \\\n",
       "count       1000        1000       1000        1000  1000.000000  1000.000000   \n",
       "unique      1000         199         50         560          NaN          NaN   \n",
       "top     ORD01000    CUST0050   PROD0008  2024-06-11          NaN          NaN   \n",
       "freq           1          12         28           7          NaN          NaN   \n",
       "mean         NaN         NaN        NaN         NaN     1.964000   105.615660   \n",
       "std          NaN         NaN        NaN         NaN     0.820596    55.259182   \n",
       "min          NaN         NaN        NaN         NaN     1.000000    10.880000   \n",
       "25%          NaN         NaN        NaN         NaN     1.000000    55.340000   \n",
       "50%          NaN         NaN        NaN         NaN     2.000000   107.970000   \n",
       "75%          NaN         NaN        NaN         NaN     3.000000   152.622500   \n",
       "max          NaN         NaN        NaN         NaN     3.000000   199.890000   \n",
       "\n",
       "           discount payment_method  \n",
       "count   1000.000000           1000  \n",
       "unique          NaN              4  \n",
       "top             NaN         PayPal  \n",
       "freq            NaN            267  \n",
       "mean      14.956170            NaN  \n",
       "std        8.630078            NaN  \n",
       "min        0.000000            NaN  \n",
       "25%        7.780000            NaN  \n",
       "50%       15.015000            NaN  \n",
       "75%       22.445000            NaN  \n",
       "max       29.950000            NaN  "
      ]
     },
     "metadata": {},
     "output_type": "display_data"
    },
    {
     "data": {
      "text/plain": [
       "order_id          0\n",
       "customer_id       0\n",
       "product_id        0\n",
       "order_date        0\n",
       "quantity          0\n",
       "price             0\n",
       "discount          0\n",
       "payment_method    0\n",
       "dtype: int64"
      ]
     },
     "metadata": {},
     "output_type": "display_data"
    },
    {
     "name": "stdout",
     "output_type": "stream",
     "text": [
      "<class 'pandas.core.frame.DataFrame'>\n",
      "RangeIndex: 1000 entries, 0 to 999\n",
      "Data columns (total 8 columns):\n",
      " #   Column          Non-Null Count  Dtype  \n",
      "---  ------          --------------  -----  \n",
      " 0   order_id        1000 non-null   object \n",
      " 1   customer_id     1000 non-null   object \n",
      " 2   product_id      1000 non-null   object \n",
      " 3   order_date      1000 non-null   object \n",
      " 4   quantity        1000 non-null   int64  \n",
      " 5   price           1000 non-null   float64\n",
      " 6   discount        1000 non-null   float64\n",
      " 7   payment_method  1000 non-null   object \n",
      "dtypes: float64(2), int64(1), object(5)\n",
      "memory usage: 62.6+ KB\n"
     ]
    }
   ],
   "source": [
    "# Add utils path (from notebooks/ to src/utils)\n",
    "sys.path.append(str((Path().resolve().parent / \"src\" / \"utils\").resolve()))\n",
    "from load_data import load_csv, list_csv_files\n",
    "\n",
    "# Set data directory to project_root/data/raw\n",
    "project_root = Path().resolve().parent\n",
    "data_dir = project_root / \"data\" / \"raw\"\n",
    "\n",
    "# load orders.csv\n",
    "df = load_csv(\"orders.csv\", data_dir=data_dir)\n",
    "if df is not None:\n",
    "    display(df.head())\n",
    "    display(df.tail()) \n",
    "    display(df.describe(include='all'))\n",
    "    display(df.isnull().sum())\n",
    "df.info()"
   ]
  },
  {
   "cell_type": "markdown",
   "id": "5a00d326",
   "metadata": {},
   "source": [
    "## Insights\n",
    "- Order & Customer Structure\n",
    "1000 unique orders (order_id), each appears only once.\n",
    "199 unique customers (customer_id), with the most frequent customer making 12 orders.\n",
    "50 unique products (product_id), with the most frequent product appearing in 28 orders.\n",
    "\n",
    "- Order dates\n",
    "560 unique order dates out of 1000 orders, with the most common date having 7 orders.\n",
    "This suggests orders are spread over many days, with some days busier than others.\n",
    "\n",
    "- Quantities\n",
    "Mean quantity: ~2 per order (min 1, max 3, std ~0.82).\n",
    "All quantities are positive (min is 1), so no negative or zero values.\n",
    "\n",
    "- Prices\n",
    "Mean price: ~$105.62 (min ~$10.88, max ~$199.89).\n",
    "Wide price range (std ~$55.26), indicating a mix of low and high-value products.\n",
    "\n",
    "- Discounts\n",
    "Mean discount: ~$14.96 (min 0, max ~$29.95).\n",
    "Discounts are always positive or zero (no negative discounts).\n",
    "Discounts vary substantially (std ~8.63).\n",
    "\n",
    "- Payment Methods\n",
    "4 unique payment methods; the most common is PayPal (267 orders).\n",
    "\n",
    "- General Observations\n",
    "No missing values in these columns (all counts are 1000).\n",
    "No negative or zero quantities/prices.\n",
    "Some customers and products are much more active/frequent than others.\n",
    "Discounts are used variably, with some orders having no discount and others up to ~$30."
   ]
  },
  {
   "cell_type": "code",
   "execution_count": 3,
   "id": "cd612a98",
   "metadata": {},
   "outputs": [
    {
     "data": {
      "text/plain": [
       "order_id           object\n",
       "customer_id        object\n",
       "product_id         object\n",
       "order_date         object\n",
       "quantity            int64\n",
       "price             float64\n",
       "discount          float64\n",
       "payment_method     object\n",
       "dtype: object"
      ]
     },
     "execution_count": 3,
     "metadata": {},
     "output_type": "execute_result"
    }
   ],
   "source": [
    "df.dtypes"
   ]
  },
  {
   "cell_type": "code",
   "execution_count": 4,
   "id": "cb3451b4",
   "metadata": {},
   "outputs": [
    {
     "data": {
      "text/plain": [
       "order_id                  object\n",
       "customer_id               object\n",
       "product_id                object\n",
       "order_date        datetime64[ns]\n",
       "quantity                   int64\n",
       "price                    float64\n",
       "discount                 float64\n",
       "payment_method            object\n",
       "dtype: object"
      ]
     },
     "execution_count": 4,
     "metadata": {},
     "output_type": "execute_result"
    }
   ],
   "source": [
    "# Convert 'order_date' to datetime format\n",
    "df['order_date'] = pd.to_datetime(df['order_date'], format='%Y-%m-%d')\n",
    "\n",
    "df.dtypes\n"
   ]
  },
  {
   "cell_type": "code",
   "execution_count": 5,
   "id": "2e284315",
   "metadata": {},
   "outputs": [
    {
     "data": {
      "text/plain": [
       "<Axes: title={'center': 'Unique Orders per Month'}, xlabel='order_month'>"
      ]
     },
     "execution_count": 5,
     "metadata": {},
     "output_type": "execute_result"
    },
    {
     "data": {
      "image/png": "[encoded data removed]",
      "text/plain": [
       "<Figure size 640x480 with 1 Axes>"
      ]
     },
     "metadata": {},
     "output_type": "display_data"
    }
   ],
   "source": [
    "# monthly_revenue.plot(title=\"Revenue per Month\")\n",
    "df['order_month'] = df['order_date'].dt.to_period('M')\n",
    "monthly_orders = df.groupby('order_month')['order_id'].nunique()\n",
    "monthly_revenue = (df['quantity'] * df['price'] * (1 - df['discount'])).groupby(df['order_month']).sum()\n",
    "monthly_orders.plot(title=\"Unique Orders per Month\")\n",
    "# monthly_revenue.plot(title=\"Revenue per Month\")"
   ]
  },
  {
   "cell_type": "code",
   "execution_count": 6,
   "id": "7120c074",
   "metadata": {},
   "outputs": [
    {
     "data": {
      "text/plain": [
       "<Axes: title={'center': 'Revenue per Month'}, xlabel='order_month'>"
      ]
     },
     "execution_count": 6,
     "metadata": {},
     "output_type": "execute_result"
    },
    {
     "data": {
      "image/png": "[encoded data removed]",
      "text/plain": [
       "<Figure size 640x480 with 1 Axes>"
      ]
     },
     "metadata": {},
     "output_type": "display_data"
    }
   ],
   "source": [
    "monthly_revenue.plot(title=\"Revenue per Month\")"
   ]
  },
  {
   "cell_type": "code",
   "execution_count": 7,
   "id": "44605892",
   "metadata": {},
   "outputs": [
    {
     "data": {
      "text/plain": [
       "customer_id\n",
       "CUST0196    -720.0507\n",
       "CUST0019    -911.1792\n",
       "CUST0192   -1066.0011\n",
       "CUST0100   -1166.7648\n",
       "CUST0017   -1186.3804\n",
       "CUST0068   -1292.3969\n",
       "CUST0130   -1335.2400\n",
       "CUST0106   -1581.3910\n",
       "CUST0182   -1620.1718\n",
       "CUST0134   -1760.4600\n",
       "Name: total_price, dtype: float64"
      ]
     },
     "metadata": {},
     "output_type": "display_data"
    }
   ],
   "source": [
    "# 2. Top Customers by Revenue\n",
    "df['total_price'] = df['quantity'] * df['price'] * (1 - df['discount'])\n",
    "top_customers = df.groupby('customer_id')['total_price'].sum().sort_values(ascending=False).head(10)\n",
    "display(top_customers)"
   ]
  },
  {
   "cell_type": "code",
   "execution_count": 8,
   "id": "20bb5890",
   "metadata": {},
   "outputs": [
    {
     "data": {
      "text/plain": [
       "product_id\n",
       "PROD0004    56\n",
       "PROD0037    55\n",
       "PROD0030    53\n",
       "PROD0040    53\n",
       "PROD0023    52\n",
       "PROD0008    51\n",
       "PROD0017    50\n",
       "PROD0021    49\n",
       "PROD0038    49\n",
       "PROD0018    48\n",
       "Name: quantity, dtype: int64"
      ]
     },
     "metadata": {},
     "output_type": "display_data"
    }
   ],
   "source": [
    "# 3. Top Products by Quantity Sold\n",
    "top_products = df.groupby('product_id')['quantity'].sum().sort_values(ascending=False).head(10)\n",
    "display(top_products)"
   ]
  },
  {
   "cell_type": "code",
   "execution_count": 9,
   "id": "c4ff77ce",
   "metadata": {},
   "outputs": [
    {
     "data": {
      "text/plain": [
       "<Axes: title={'center': 'Payment Method Distribution'}, xlabel='payment_method'>"
      ]
     },
     "execution_count": 9,
     "metadata": {},
     "output_type": "execute_result"
    },
    {
     "data": {
      "image/png": "[encoded data removed]",
      "text/plain": [
       "<Figure size 640x480 with 1 Axes>"
      ]
     },
     "metadata": {},
     "output_type": "display_data"
    }
   ],
   "source": [
    "# 4. Payment Method Distribution\n",
    "payment_counts = df['payment_method'].value_counts()\n",
    "payment_counts.plot(kind='bar', title=\"Payment Method Distribution\")"
   ]
  },
  {
   "cell_type": "code",
   "execution_count": 10,
   "id": "5603ed31",
   "metadata": {},
   "outputs": [
    {
     "data": {
      "text/plain": [
       "product_id\n",
       "PROD0005    19.675000\n",
       "PROD0025    18.971579\n",
       "PROD0046    18.621905\n",
       "PROD0010    18.574444\n",
       "PROD0032    17.972941\n",
       "PROD0035    17.306000\n",
       "PROD0049    17.275789\n",
       "PROD0017    16.941852\n",
       "PROD0001    16.862941\n",
       "PROD0023    16.858800\n",
       "Name: discount, dtype: float64"
      ]
     },
     "metadata": {},
     "output_type": "display_data"
    }
   ],
   "source": [
    "#Average Discount per Product\n",
    "avg_discount = df.groupby('product_id')['discount'].mean().sort_values(ascending=False).head(10)\n",
    "display(avg_discount)"
   ]
  },
  {
   "cell_type": "code",
   "execution_count": 11,
   "id": "9204e09b",
   "metadata": {},
   "outputs": [
    {
     "data": {
      "text/plain": [
       "count    199.000000\n",
       "mean       5.025126\n",
       "std        2.295004\n",
       "min        1.000000\n",
       "25%        3.000000\n",
       "50%        5.000000\n",
       "75%        6.000000\n",
       "max       12.000000\n",
       "Name: order_id, dtype: float64"
      ]
     },
     "execution_count": 11,
     "metadata": {},
     "output_type": "execute_result"
    }
   ],
   "source": [
    "# 6. Orders per Customer (Frequency)\n",
    "orders_per_customer = df.groupby('customer_id')['order_id'].nunique()\n",
    "orders_per_customer.describe()"
   ]
  },
  {
   "cell_type": "code",
   "execution_count": 12,
   "id": "7270cdda",
   "metadata": {},
   "outputs": [
    {
     "data": {
      "text/html": [
       "<div>\n",
       "<style scoped>\n",
       "    .dataframe tbody tr th:only-of-type {\n",
       "        vertical-align: middle;\n",
       "    }\n",
       "\n",
       "    .dataframe tbody tr th {\n",
       "        vertical-align: top;\n",
       "    }\n",
       "\n",
       "    .dataframe thead th {\n",
       "        text-align: right;\n",
       "    }\n",
       "</style>\n",
       "<table border=\"1\" class=\"dataframe\">\n",
       "  <thead>\n",
       "    <tr style=\"text-align: right;\">\n",
       "      <th></th>\n",
       "      <th>order_id</th>\n",
       "      <th>customer_id</th>\n",
       "      <th>product_id</th>\n",
       "      <th>order_date</th>\n",
       "      <th>quantity</th>\n",
       "      <th>price</th>\n",
       "      <th>discount</th>\n",
       "      <th>payment_method</th>\n",
       "      <th>order_month</th>\n",
       "      <th>total_price</th>\n",
       "    </tr>\n",
       "  </thead>\n",
       "  <tbody>\n",
       "  </tbody>\n",
       "</table>\n",
       "</div>"
      ],
      "text/plain": [
       "Empty DataFrame\n",
       "Columns: [order_id, customer_id, product_id, order_date, quantity, price, discount, payment_method, order_month, total_price]\n",
       "Index: []"
      ]
     },
     "metadata": {},
     "output_type": "display_data"
    }
   ],
   "source": [
    "# 7. Outlier Detection: Negative or Zero Quantity/Price\n",
    "anomalies = df[(df['quantity'] <= 0) | (df['price'] <= 0)]\n",
    "display(anomalies)"
   ]
  },
  {
   "cell_type": "code",
   "execution_count": 13,
   "id": "3f3cecb6",
   "metadata": {},
   "outputs": [
    {
     "data": {
      "text/html": [
       "<div>\n",
       "<style scoped>\n",
       "    .dataframe tbody tr th:only-of-type {\n",
       "        vertical-align: middle;\n",
       "    }\n",
       "\n",
       "    .dataframe tbody tr th {\n",
       "        vertical-align: top;\n",
       "    }\n",
       "\n",
       "    .dataframe thead th {\n",
       "        text-align: right;\n",
       "    }\n",
       "</style>\n",
       "<table border=\"1\" class=\"dataframe\">\n",
       "  <thead>\n",
       "    <tr style=\"text-align: right;\">\n",
       "      <th></th>\n",
       "      <th>order_id</th>\n",
       "      <th>customer_id</th>\n",
       "      <th>product_id</th>\n",
       "      <th>order_date</th>\n",
       "      <th>quantity</th>\n",
       "      <th>price</th>\n",
       "      <th>discount</th>\n",
       "      <th>payment_method</th>\n",
       "      <th>order_month</th>\n",
       "      <th>total_price</th>\n",
       "    </tr>\n",
       "  </thead>\n",
       "  <tbody>\n",
       "    <tr>\n",
       "      <th>count</th>\n",
       "      <td>1000</td>\n",
       "      <td>1000</td>\n",
       "      <td>1000</td>\n",
       "      <td>1000</td>\n",
       "      <td>1000.000000</td>\n",
       "      <td>1000.000000</td>\n",
       "      <td>1000.000000</td>\n",
       "      <td>1000</td>\n",
       "      <td>1000</td>\n",
       "      <td>1000.000000</td>\n",
       "    </tr>\n",
       "    <tr>\n",
       "      <th>unique</th>\n",
       "      <td>1000</td>\n",
       "      <td>199</td>\n",
       "      <td>50</td>\n",
       "      <td>NaN</td>\n",
       "      <td>NaN</td>\n",
       "      <td>NaN</td>\n",
       "      <td>NaN</td>\n",
       "      <td>4</td>\n",
       "      <td>25</td>\n",
       "      <td>NaN</td>\n",
       "    </tr>\n",
       "    <tr>\n",
       "      <th>top</th>\n",
       "      <td>ORD01000</td>\n",
       "      <td>CUST0050</td>\n",
       "      <td>PROD0008</td>\n",
       "      <td>NaN</td>\n",
       "      <td>NaN</td>\n",
       "      <td>NaN</td>\n",
       "      <td>NaN</td>\n",
       "      <td>PayPal</td>\n",
       "      <td>2024-06</td>\n",
       "      <td>NaN</td>\n",
       "    </tr>\n",
       "    <tr>\n",
       "      <th>freq</th>\n",
       "      <td>1</td>\n",
       "      <td>12</td>\n",
       "      <td>28</td>\n",
       "      <td>NaN</td>\n",
       "      <td>NaN</td>\n",
       "      <td>NaN</td>\n",
       "      <td>NaN</td>\n",
       "      <td>267</td>\n",
       "      <td>56</td>\n",
       "      <td>NaN</td>\n",
       "    </tr>\n",
       "    <tr>\n",
       "      <th>mean</th>\n",
       "      <td>NaN</td>\n",
       "      <td>NaN</td>\n",
       "      <td>NaN</td>\n",
       "      <td>2024-07-07 14:18:14.400000</td>\n",
       "      <td>1.964000</td>\n",
       "      <td>105.615660</td>\n",
       "      <td>14.956170</td>\n",
       "      <td>NaN</td>\n",
       "      <td>NaN</td>\n",
       "      <td>-2980.177412</td>\n",
       "    </tr>\n",
       "    <tr>\n",
       "      <th>min</th>\n",
       "      <td>NaN</td>\n",
       "      <td>NaN</td>\n",
       "      <td>NaN</td>\n",
       "      <td>2023-07-04 00:00:00</td>\n",
       "      <td>1.000000</td>\n",
       "      <td>10.880000</td>\n",
       "      <td>0.000000</td>\n",
       "      <td>NaN</td>\n",
       "      <td>NaN</td>\n",
       "      <td>-16393.939200</td>\n",
       "    </tr>\n",
       "    <tr>\n",
       "      <th>25%</th>\n",
       "      <td>NaN</td>\n",
       "      <td>NaN</td>\n",
       "      <td>NaN</td>\n",
       "      <td>2024-01-24 06:00:00</td>\n",
       "      <td>1.000000</td>\n",
       "      <td>55.340000</td>\n",
       "      <td>7.780000</td>\n",
       "      <td>NaN</td>\n",
       "      <td>NaN</td>\n",
       "      <td>-4226.810400</td>\n",
       "    </tr>\n",
       "    <tr>\n",
       "      <th>50%</th>\n",
       "      <td>NaN</td>\n",
       "      <td>NaN</td>\n",
       "      <td>NaN</td>\n",
       "      <td>2024-07-04 12:00:00</td>\n",
       "      <td>2.000000</td>\n",
       "      <td>107.970000</td>\n",
       "      <td>15.015000</td>\n",
       "      <td>NaN</td>\n",
       "      <td>NaN</td>\n",
       "      <td>-1917.754700</td>\n",
       "    </tr>\n",
       "    <tr>\n",
       "      <th>75%</th>\n",
       "      <td>NaN</td>\n",
       "      <td>NaN</td>\n",
       "      <td>NaN</td>\n",
       "      <td>2024-12-25 00:00:00</td>\n",
       "      <td>3.000000</td>\n",
       "      <td>152.622500</td>\n",
       "      <td>22.445000</td>\n",
       "      <td>NaN</td>\n",
       "      <td>NaN</td>\n",
       "      <td>-676.287900</td>\n",
       "    </tr>\n",
       "    <tr>\n",
       "      <th>max</th>\n",
       "      <td>NaN</td>\n",
       "      <td>NaN</td>\n",
       "      <td>NaN</td>\n",
       "      <td>2025-07-03 00:00:00</td>\n",
       "      <td>3.000000</td>\n",
       "      <td>199.890000</td>\n",
       "      <td>29.950000</td>\n",
       "      <td>NaN</td>\n",
       "      <td>NaN</td>\n",
       "      <td>304.076000</td>\n",
       "    </tr>\n",
       "    <tr>\n",
       "      <th>std</th>\n",
       "      <td>NaN</td>\n",
       "      <td>NaN</td>\n",
       "      <td>NaN</td>\n",
       "      <td>NaN</td>\n",
       "      <td>0.820596</td>\n",
       "      <td>55.259182</td>\n",
       "      <td>8.630078</td>\n",
       "      <td>NaN</td>\n",
       "      <td>NaN</td>\n",
       "      <td>3141.397007</td>\n",
       "    </tr>\n",
       "  </tbody>\n",
       "</table>\n",
       "</div>"
      ],
      "text/plain": [
       "        order_id customer_id product_id                  order_date  \\\n",
       "count       1000        1000       1000                        1000   \n",
       "unique      1000         199         50                         NaN   \n",
       "top     ORD01000    CUST0050   PROD0008                         NaN   \n",
       "freq           1          12         28                         NaN   \n",
       "mean         NaN         NaN        NaN  2024-07-07 14:18:14.400000   \n",
       "min          NaN         NaN        NaN         2023-07-04 00:00:00   \n",
       "25%          NaN         NaN        NaN         2024-01-24 06:00:00   \n",
       "50%          NaN         NaN        NaN         2024-07-04 12:00:00   \n",
       "75%          NaN         NaN        NaN         2024-12-25 00:00:00   \n",
       "max          NaN         NaN        NaN         2025-07-03 00:00:00   \n",
       "std          NaN         NaN        NaN                         NaN   \n",
       "\n",
       "           quantity        price     discount payment_method order_month  \\\n",
       "count   1000.000000  1000.000000  1000.000000           1000        1000   \n",
       "unique          NaN          NaN          NaN              4          25   \n",
       "top             NaN          NaN          NaN         PayPal     2024-06   \n",
       "freq            NaN          NaN          NaN            267          56   \n",
       "mean       1.964000   105.615660    14.956170            NaN         NaN   \n",
       "min        1.000000    10.880000     0.000000            NaN         NaN   \n",
       "25%        1.000000    55.340000     7.780000            NaN         NaN   \n",
       "50%        2.000000   107.970000    15.015000            NaN         NaN   \n",
       "75%        3.000000   152.622500    22.445000            NaN         NaN   \n",
       "max        3.000000   199.890000    29.950000            NaN         NaN   \n",
       "std        0.820596    55.259182     8.630078            NaN         NaN   \n",
       "\n",
       "         total_price  \n",
       "count    1000.000000  \n",
       "unique           NaN  \n",
       "top              NaN  \n",
       "freq             NaN  \n",
       "mean    -2980.177412  \n",
       "min    -16393.939200  \n",
       "25%     -4226.810400  \n",
       "50%     -1917.754700  \n",
       "75%      -676.287900  \n",
       "max       304.076000  \n",
       "std      3141.397007  "
      ]
     },
     "execution_count": 13,
     "metadata": {},
     "output_type": "execute_result"
    }
   ],
   "source": [
    "df.describe(include='all')"
   ]
  },
  {
   "cell_type": "markdown",
   "id": "1a8b9085",
   "metadata": {},
   "source": [
    "## Feature Engineering\n",
    "- Add total_price"
   ]
  },
  {
   "cell_type": "code",
   "execution_count": 14,
   "id": "bd2433b0",
   "metadata": {},
   "outputs": [
    {
     "data": {
      "text/plain": [
       "count    1000.000000\n",
       "mean      177.522330\n",
       "std       138.887764\n",
       "min       -44.640000\n",
       "25%        67.305000\n",
       "50%       144.235000\n",
       "75%       268.180000\n",
       "max       583.020000\n",
       "Name: total_price, dtype: float64"
      ]
     },
     "execution_count": 14,
     "metadata": {},
     "output_type": "execute_result"
    }
   ],
   "source": [
    "df['total_price'] = df['quantity'] * (df['price'] - df['discount'])\n",
    "df['total_price'].describe()"
   ]
  },
  {
   "cell_type": "code",
   "execution_count": 15,
   "id": "bf3038c7",
   "metadata": {},
   "outputs": [],
   "source": [
    "df['year'] = df['order_date'].dt.year\n",
    "df['month'] = df['order_date'].dt.month\n",
    "df['weekday'] = df['order_date'].dt.day_name()\n"
   ]
  },
  {
   "cell_type": "markdown",
   "id": "46a2c51b",
   "metadata": {},
   "source": [
    "- Add order_quarter"
   ]
  },
  {
   "cell_type": "code",
   "execution_count": 16,
   "id": "3c95df0a",
   "metadata": {},
   "outputs": [],
   "source": [
    "df['order_quarter'] = df['order_date'].dt.to_period('Q').astype(str)"
   ]
  },
  {
   "cell_type": "code",
   "execution_count": 17,
   "id": "3a5f3460",
   "metadata": {},
   "outputs": [
    {
     "data": {
      "text/plain": [
       "count    1000.000000\n",
       "mean      177.522330\n",
       "std       138.887764\n",
       "min       -44.640000\n",
       "25%        67.305000\n",
       "50%       144.235000\n",
       "75%       268.180000\n",
       "max       583.020000\n",
       "Name: total_price, dtype: float64"
      ]
     },
     "execution_count": 17,
     "metadata": {},
     "output_type": "execute_result"
    }
   ],
   "source": [
    "df.describe(include='all')\n",
    "df.isnull().sum()\n",
    "df['total_price'].describe()\n"
   ]
  },
  {
   "cell_type": "code",
   "execution_count": 21,
   "id": "aa874762",
   "metadata": {},
   "outputs": [
    {
     "name": "stdout",
     "output_type": "stream",
     "text": [
      "(1000, 14)\n",
      "💾 Saved CSV to: C:\\Users\\mashel\\Desktop\\econ_churn\\data\\processed\\orders_clean.csv\n"
     ]
    }
   ],
   "source": [
    "# Add utility path to sys\n",
    "sys.path.append(str((Path().resolve().parent / \"src\" / \"utils\").resolve()))\n",
    "\n",
    "# Import all utility functions you need\n",
    "from load_data import save_csv \n",
    "\n",
    "# Save your cleaned DataFrame\n",
    "\n",
    "print(df.shape) # ensure the DataFrame is not empty before saving\n",
    "save_csv(df, \"orders_clean.csv\")\n"
   ]
  },
  {
   "cell_type": "code",
   "execution_count": 19,
   "id": "7d006d72",
   "metadata": {},
   "outputs": [
    {
     "name": "stdout",
     "output_type": "stream",
     "text": [
      "📄 Found CSV files: ['campaigns.csv', 'customers.csv', 'orders.csv', 'products.csv', 'returns.csv', 'reviews.csv', 'sessions.csv']\n"
     ]
    },
    {
     "data": {
      "text/plain": [
       "['campaigns.csv',\n",
       " 'customers.csv',\n",
       " 'orders.csv',\n",
       " 'products.csv',\n",
       " 'returns.csv',\n",
       " 'reviews.csv',\n",
       " 'sessions.csv']"
      ]
     },
     "execution_count": 19,
     "metadata": {},
     "output_type": "execute_result"
    }
   ],
   "source": [
    "# List all CSV files in the data/raw directory\n",
    "list_csv_files()"
   ]
  }
 ],
 "metadata": {
  "kernelspec": {
   "display_name": "freelance-env",
   "language": "python",
   "name": "python3"
  },
  "language_info": {
   "codemirror_mode": {
    "name": "ipython",
    "version": 3
   },
   "file_extension": ".py",
   "mimetype": "text/x-python",
   "name": "python",
   "nbconvert_exporter": "python",
   "pygments_lexer": "ipython3",
   "version": "3.12.11"
  }
 },
 "nbformat": 4,
 "nbformat_minor": 5
}
