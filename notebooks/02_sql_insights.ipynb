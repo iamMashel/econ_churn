{
 "cells": [
  {
   "cell_type": "code",
   "execution_count": null,
   "id": "6fb4fbd7",
   "metadata": {},
   "outputs": [],
   "source": [
    "import sqlite3\n",
    "from pathlib import Path\n",
    "import pandas as pd\n",
    "\n",
    "# Connect to DB\n",
    "db_path = Path(\"../data/processed/full_data.db\")\n",
    "conn = sqlite3.connect(db_path)\n",
    "\n",
    "# Load SQL query\n",
    "with open(\"../sql/sales_metrics.sql\") as file:\n",
    "    query = file.read()\n",
    "\n",
    "# Run and display\n",
    "df_result = pd.read_sql_query(query, conn)\n",
    "df_result.head()\n"
   ]
  }
 ],
 "metadata": {
  "kernelspec": {
   "display_name": "scaffolds",
   "language": "python",
   "name": "python3"
  },
  "language_info": {
   "name": "python",
   "version": "3.12.9"
  }
 },
 "nbformat": 4,
 "nbformat_minor": 5
}
