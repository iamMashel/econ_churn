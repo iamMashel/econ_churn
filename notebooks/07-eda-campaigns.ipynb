{
 "cells": [
  {
   "cell_type": "code",
   "execution_count": 1,
   "id": "248f3922",
   "metadata": {},
   "outputs": [],
   "source": [
    "import sys\n",
    "from pathlib import Path\n",
    "import pandas as pd\n",
    "import seaborn as sns\n",
    "import matplotlib.pyplot as plt"
   ]
  },
  {
   "cell_type": "code",
   "execution_count": 2,
   "id": "5b347cf8",
   "metadata": {},
   "outputs": [
    {
     "ename": "ModuleNotFoundError",
     "evalue": "No module named 'load_data'",
     "output_type": "error",
     "traceback": [
      "\u001b[31m---------------------------------------------------------------------------\u001b[39m",
      "\u001b[31mModuleNotFoundError\u001b[39m                       Traceback (most recent call last)",
      "\u001b[36mCell\u001b[39m\u001b[36m \u001b[39m\u001b[32mIn[2]\u001b[39m\u001b[32m, line 3\u001b[39m\n\u001b[32m      1\u001b[39m \u001b[38;5;66;03m# Add utility path\u001b[39;00m\n\u001b[32m      2\u001b[39m sys.path.append(\u001b[38;5;28mstr\u001b[39m((Path().resolve().parent.parent / \u001b[33m\"\u001b[39m\u001b[33msrc\u001b[39m\u001b[33m\"\u001b[39m / \u001b[33m\"\u001b[39m\u001b[33mutils\u001b[39m\u001b[33m\"\u001b[39m).resolve()))\n\u001b[32m----> \u001b[39m\u001b[32m3\u001b[39m \u001b[38;5;28;01mfrom\u001b[39;00m\u001b[38;5;250m \u001b[39m\u001b[34;01mload_data\u001b[39;00m\u001b[38;5;250m \u001b[39m\u001b[38;5;28;01mimport\u001b[39;00m load_csv, save_csv\n\u001b[32m      6\u001b[39m \u001b[38;5;66;03m# Load Raw Data\u001b[39;00m\n\u001b[32m      7\u001b[39m df = load_csv(\u001b[33m\"\u001b[39m\u001b[33mcampaigns.csv\u001b[39m\u001b[33m\"\u001b[39m)\n",
      "\u001b[31mModuleNotFoundError\u001b[39m: No module named 'load_data'"
     ]
    }
   ],
   "source": [
    "# Add utility path\n",
    "sys.path.append(str((Path().resolve().parent.parent / \"src\" / \"utils\").resolve()))\n",
    "from load_data import load_csv, save_csv\n",
    "\n",
    "\n",
    "# Load Raw Data\n",
    "df = load_csv(\"campaigns.csv\")\n",
    "df.head()"
   ]
  },
  {
   "cell_type": "code",
   "execution_count": null,
   "id": "e6030f6e",
   "metadata": {},
   "outputs": [],
   "source": [
    "\n",
    "\n",
    "# -------------------------------\n",
    "# 🔍 Initial Exploration\n",
    "# -------------------------------\n",
    "df.info()\n",
    "df.isna().sum()\n",
    "df.describe(include='all')\n",
    "\n",
    "# -------------------------------\n",
    "# 🧹 Data Cleaning\n",
    "# -------------------------------\n",
    "df['date_sent'] = pd.to_datetime(df['date_sent'], errors='coerce')\n",
    "df['campaign_type'] = df['campaign_type'].str.strip().str.title()\n",
    "df['clicked'] = df['clicked'].astype(bool)\n",
    "df['converted'] = df['converted'].astype(bool)\n",
    "\n",
    "# Drop rows missing essential fields\n",
    "df = df.dropna(subset=['customer_id', 'date_sent'])\n",
    "\n",
    "# -------------------------------\n",
    "# 🧠 Feature Engineering\n",
    "# -------------------------------\n",
    "# Weekday & month\n",
    "df['day_sent'] = df['date_sent'].dt.day_name()\n",
    "df['month_sent'] = df['date_sent'].dt.to_period(\"M\").astype(str)\n",
    "\n",
    "# Campaign success logic\n",
    "df['campaign_result'] = df.apply(\n",
    "    lambda row: 'Converted' if row['converted']\n",
    "    else ('Clicked, No Conversion' if row['clicked']\n",
    "          else 'No Action'), axis=1\n",
    ")\n",
    "\n",
    "# Join with customer metadata\n",
    "customers_df = load_csv(\"customers_clean.csv\")\n",
    "df = df.merge(customers_df[['customer_id', 'region', 'gender']], on='customer_id', how='left')\n",
    "\n",
    "# -------------------------------\n",
    "# 📊 Exploratory Data Analysis\n",
    "# -------------------------------\n",
    "\n",
    "# Overall campaign outcomes\n",
    "sns.countplot(y='campaign_result', data=df, order=df['campaign_result'].value_counts().index)\n",
    "plt.title(\"Campaign Outcome Breakdown\")\n",
    "plt.show()\n",
    "\n",
    "# By campaign type\n",
    "sns.countplot(y='campaign_type', hue='campaign_result', data=df)\n",
    "plt.title(\"Campaign Performance by Type\")\n",
    "plt.legend(loc='upper right')\n",
    "plt.show()\n",
    "\n",
    "# Click-through and conversion by region\n",
    "region_summary = df.groupby('region')[['clicked', 'converted']].mean().sort_values(by='converted', ascending=False)\n",
    "region_summary.plot(kind='bar', figsize=(10, 6), title=\"Campaign Metrics by Region\")\n",
    "plt.ylabel(\"Rate\")\n",
    "plt.xticks(rotation=45)\n",
    "plt.show()\n",
    "\n",
    "# Time trends\n",
    "df['date'] = df['date_sent'].dt.date\n",
    "daily_conv = df.groupby('date')['converted'].mean()\n",
    "daily_conv.plot(title=\"Daily Conversion Rate Trend\", figsize=(10, 4))\n",
    "plt.ylabel(\"Conversion Rate\")\n",
    "plt.show()\n",
    "\n",
    "# -------------------------------\n",
    "# 💾 Save Cleaned File\n",
    "# -------------------------------\n",
    "save_csv(df, \"campaigns_clean.csv\")"
   ]
  }
 ],
 "metadata": {
  "kernelspec": {
   "display_name": "freelance-env",
   "language": "python",
   "name": "python3"
  },
  "language_info": {
   "codemirror_mode": {
    "name": "ipython",
    "version": 3
   },
   "file_extension": ".py",
   "mimetype": "text/x-python",
   "name": "python",
   "nbconvert_exporter": "python",
   "pygments_lexer": "ipython3",
   "version": "3.12.11"
  }
 },
 "nbformat": 4,
 "nbformat_minor": 5
}
